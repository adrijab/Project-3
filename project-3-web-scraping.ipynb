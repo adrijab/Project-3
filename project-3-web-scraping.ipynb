{
 "cells": [
  {
   "cell_type": "markdown",
   "metadata": {},
   "source": [
    "# Project 3:  Web Scraping\n",
    "### Finding Underpriced RVs on Craigslist\n",
    "\n",
    "![](https://snag.gy/WrdUMx.jpg)"
   ]
  },
  {
   "cell_type": "markdown",
   "metadata": {},
   "source": [
    "In this project we will be practicing our web scraping skills.  You can use Scrapy or Python requests in order to complete this project.  It may be helpful to write some prototype code in this notebook to test your assumptions, then move it into a Python file that can be run from the command line.\n",
    "\n",
    "> In order to run code from the command line, instead of the notebook, you just need to save your code to a file (with a .py extension), and run it using the Python interpreter:<br><br>\n",
    "> `python my_file.py`\n",
    "\n",
    "You will be building a process to scrape a single category of search results on Craigslist, that can easily be applied to other categories by changing the search terms.  The main goal is to be able to target and scrape a single page given a set of parameters.\n",
    "\n",
    "**If you use Scrapy, provide your code in a folder.**"
   ]
  },
  {
   "cell_type": "markdown",
   "metadata": {},
   "source": [
    "## Import your libraries for scrapy / requests / pandas / numpy / etc\n",
    "Setup whichever libraries you need. Review past material for reference."
   ]
  },
  {
   "cell_type": "code",
   "execution_count": 1,
   "metadata": {
    "collapsed": true
   },
   "outputs": [],
   "source": [
    "# PREPARE REQUIRED LIBRARIES\n",
    "import scrapy\n",
    "from scrapy.selector import Selector\n",
    "from scrapy.http import HtmlResponse\n",
    "import pandas as pd\n",
    "import numpy as np\n",
    "import requests\n",
    "# response = requests.get(\"http://www.craigslist.com\")\n",
    "# HTML = response.text  \n",
    "# HTML[0:150]           # view the first 500 characters of the HTML index document for Craiglist\n"
   ]
  },
  {
   "cell_type": "markdown",
   "metadata": {},
   "source": [
    "\n",
    "\n",
    "## 1.  Scrape for the largest US cities (non-exhaustive list)\n",
    "Search, research, and scrape Wikipedia for a list of the largest US cities.  There are a few sources but find one that is in a nice table.  We don't want all cities, just signifficant cities.  Examine your source.  Look for what can be differentiable.\n",
    "\n",
    "- Use requests\n",
    "- Build XPath query(ies)\n",
    "- Extract to a list\n",
    "- Clean your list"
   ]
  },
  {
   "cell_type": "code",
   "execution_count": 2,
   "metadata": {
    "collapsed": false
   },
   "outputs": [
    {
     "name": "stderr",
     "output_type": "stream",
     "text": [
      "/Users/adrija/anaconda/envs/dsi/lib/python2.7/site-packages/ipykernel/__main__.py:5: ScrapyDeprecationWarning: scrapy.selector.HtmlXPathSelector is deprecated, instantiate scrapy.Selector instead.\n",
      "/Users/adrija/anaconda/envs/dsi/lib/python2.7/site-packages/ipykernel/__main__.py:10: ScrapyDeprecationWarning: Call to deprecated function select. Use .xpath() instead.\n",
      "/Users/adrija/anaconda/envs/dsi/lib/python2.7/site-packages/parsel/selector.py:234: ScrapyDeprecationWarning: scrapy.selector.HtmlXPathSelector is deprecated, instantiate scrapy.Selector instead.\n",
      "  for x in result]\n",
      "/Users/adrija/anaconda/envs/dsi/lib/python2.7/site-packages/ipykernel/__main__.py:10: ScrapyDeprecationWarning: Call to deprecated function extract_unquoted. Use .extract() instead.\n",
      "/Users/adrija/anaconda/envs/dsi/lib/python2.7/site-packages/scrapy/selector/unified.py:32: ScrapyDeprecationWarning: Call to deprecated function extract_unquoted. Use .extract() instead.\n",
      "  return [x.extract_unquoted() for x in self]\n"
     ]
    },
    {
     "data": {
      "text/plain": [
       "['Cities',\n",
       " 'U.S. Cities',\n",
       " 'New York',\n",
       " 'Los Angeles',\n",
       " 'Chicago',\n",
       " 'Houston',\n",
       " 'Philadelphia',\n",
       " 'Phoenix',\n",
       " 'San Antonio',\n",
       " 'San Diego',\n",
       " 'Dallas',\n",
       " 'San Jose',\n",
       " 'Austin',\n",
       " 'Jacksonville,',\n",
       " 'San Francisco',\n",
       " 'Indianapolis',\n",
       " 'Columbus',\n",
       " 'Fort Worth',\n",
       " 'Charlotte',\n",
       " 'Detroit',\n",
       " 'El Paso',\n",
       " 'Seattle',\n",
       " 'Denver',\n",
       " 'Washington, DC',\n",
       " 'Memphis',\n",
       " 'Boston',\n",
       " 'Nashville-Davidson',\n",
       " 'Baltimore',\n",
       " 'Oklahoma City',\n",
       " 'Portland',\n",
       " 'Las Vegas',\n",
       " 'Louisville-Jefferson County',\n",
       " 'Milwaukee',\n",
       " 'Albuquerque',\n",
       " 'Tucson',\n",
       " 'Fresno',\n",
       " 'Sacramento',\n",
       " 'Long Beach',\n",
       " 'Kansas City',\n",
       " 'Mesa',\n",
       " 'Atlanta',\n",
       " 'Virginia Beach',\n",
       " 'Omaha',\n",
       " 'Colorado Springs',\n",
       " 'Miami',\n",
       " 'Oakland',\n",
       " 'Minneapolis',\n",
       " 'Tulsa',\n",
       " 'Cleveland',\n",
       " 'Wichita',\n",
       " 'New Orleans',\n",
       " 'Arlington',\n",
       " 'Population of the 20 Largest U.S. Cities, 1900\\xe2\\x80\\x932010',\n",
       " 'U.S. Cities',\n",
       " 'U.S. Cities']"
      ]
     },
     "execution_count": 2,
     "metadata": {},
     "output_type": "execute_result"
    }
   ],
   "source": [
    "# SCRAPE WIKIPEDI<img src=\"http://imgur.com/xDpSobf.png\" style=\"float: left; margin: A FOR LARGEST US CITIES (NON-EXHAUSTIVE LIST)\n",
    "import requests\n",
    "from scrapy.selector import HtmlXPathSelector\n",
    "response = requests.get(\"https://www.infoplease.com/us/us-cities/top-50-cities-us-population-and-rank\")\n",
    "hxs = HtmlXPathSelector(response)\n",
    "# HTML = response.text  \n",
    "# HTML[0:150] \n",
    "\n",
    "#hxs.select('//title/text()').extract()\n",
    "old_list = [s.encode('utf-8') for s in  hxs.select('//a[contains(@href, \"us-cities\")]/text()').extract_unquoted()]\n",
    "old_list "
   ]
  },
  {
   "cell_type": "code",
   "execution_count": null,
   "metadata": {
    "collapsed": false
   },
   "outputs": [],
   "source": [
    "\n",
    "\n"
   ]
  },
  {
   "cell_type": "code",
   "execution_count": null,
   "metadata": {
    "collapsed": false
   },
   "outputs": [],
   "source": []
  },
  {
   "cell_type": "code",
   "execution_count": 3,
   "metadata": {
    "collapsed": false
   },
   "outputs": [],
   "source": [
    "#Cleaning and extracting just the city names\n",
    "# exclude = ['\\n',\"u'<a href=\"/world/us-cities/\"]\n",
    "# newlist = []\n",
    "# for item in old_list:\n",
    "#     if item not in exclude:\n",
    "#         newlist.append(item)\n",
    "        \n",
    "# newlist        "
   ]
  },
  {
   "cell_type": "markdown",
   "metadata": {},
   "source": [
    "## 1.2 Only retain cities with properly formed ASCII\n",
    "\n",
    "Optionally, filter out any cities with impropper ASCII characters.  A smaller list will be easier to look at.  However you may not need to filter these if you spend more time scraping a more concise city list.  This list should help you narrow down the list of regional Craigslist sites."
   ]
  },
  {
   "cell_type": "code",
   "execution_count": 4,
   "metadata": {
    "collapsed": false
   },
   "outputs": [],
   "source": [
    "# ONLY RETAIN PROPERLY FORMED CITIES WITH FILTERING FUNCTION\n",
    "import string\n",
    "printable = set(string.printable)\n",
    "#filter(lambda x: x in printable, old_list)\n",
    "#old_list[0]"
   ]
  },
  {
   "cell_type": "markdown",
   "metadata": {},
   "source": [
    "## 2.  Write a function to capture current pricing information via Craigslist in one city.\n",
    "Choose a city from your scraped data, then go to the cooresponding city section on Craigslist, searching for \"rv\" in the auto section.  Write a method that pulls out the prices."
   ]
  },
  {
   "cell_type": "code",
   "execution_count": 5,
   "metadata": {
    "collapsed": false
   },
   "outputs": [
    {
     "data": {
      "text/plain": [
       "['$32000',\n",
       " '$32000',\n",
       " '$32000',\n",
       " '$32000',\n",
       " '$25050',\n",
       " '$28600',\n",
       " '$10500',\n",
       " '$10500',\n",
       " '$350',\n",
       " '$350',\n",
       " '$2500',\n",
       " '$8900',\n",
       " '$8900',\n",
       " '$125000',\n",
       " '$125000',\n",
       " '$9995',\n",
       " '$9995',\n",
       " '$9995',\n",
       " '$9995',\n",
       " '$1000',\n",
       " '$1000',\n",
       " '$11950',\n",
       " '$11950',\n",
       " '$90',\n",
       " '$90',\n",
       " '$85000',\n",
       " '$85000',\n",
       " '$500',\n",
       " '$29000',\n",
       " '$29000',\n",
       " '$285',\n",
       " '$285',\n",
       " '$9900',\n",
       " '$9900',\n",
       " '$28800',\n",
       " '$28800',\n",
       " '$33950',\n",
       " '$33950',\n",
       " '$10900',\n",
       " '$10900',\n",
       " '$14500',\n",
       " '$14500',\n",
       " '$3000',\n",
       " '$3000',\n",
       " '$39900',\n",
       " '$39900',\n",
       " '$2000',\n",
       " '$2000',\n",
       " '$23000',\n",
       " '$23000',\n",
       " '$79950',\n",
       " '$79950',\n",
       " '$7500',\n",
       " '$8000',\n",
       " '$8000',\n",
       " '$29000',\n",
       " '$29000',\n",
       " '$27500',\n",
       " '$27500',\n",
       " '$3000',\n",
       " '$3000',\n",
       " '$5000',\n",
       " '$5000',\n",
       " '$85',\n",
       " '$85',\n",
       " '$85',\n",
       " '$85',\n",
       " '$69500',\n",
       " '$69500',\n",
       " '$10000',\n",
       " '$10000',\n",
       " '$5900',\n",
       " '$5900',\n",
       " '$5000',\n",
       " '$5000',\n",
       " '$62000',\n",
       " '$62000',\n",
       " '$62000',\n",
       " '$62000',\n",
       " '$27950',\n",
       " '$27950',\n",
       " '$33500',\n",
       " '$33500',\n",
       " '$22800',\n",
       " '$22800',\n",
       " '$7800',\n",
       " '$7800',\n",
       " '$120000',\n",
       " '$120000',\n",
       " '$26955',\n",
       " '$26955',\n",
       " '$28900',\n",
       " '$28900',\n",
       " '$5800',\n",
       " '$5800',\n",
       " '$9000',\n",
       " '$9000',\n",
       " '$1',\n",
       " '$4000',\n",
       " '$4000',\n",
       " '$6200',\n",
       " '$6200',\n",
       " '$10000',\n",
       " '$10000',\n",
       " '$3495',\n",
       " '$3495',\n",
       " '$2500',\n",
       " '$2500',\n",
       " '$19000',\n",
       " '$19000',\n",
       " '$2000',\n",
       " '$2000',\n",
       " '$48900',\n",
       " '$48900',\n",
       " '$14999',\n",
       " '$14999',\n",
       " '$4000',\n",
       " '$4000',\n",
       " '$325',\n",
       " '$325',\n",
       " '$400',\n",
       " '$400',\n",
       " '$34500',\n",
       " '$34500',\n",
       " '$33500',\n",
       " '$33500',\n",
       " '$85',\n",
       " '$85',\n",
       " '$85',\n",
       " '$85',\n",
       " '$23500',\n",
       " '$23500',\n",
       " '$625000',\n",
       " '$625000',\n",
       " '$7500',\n",
       " '$6200',\n",
       " '$6200',\n",
       " '$18500',\n",
       " '$18500',\n",
       " '$8400',\n",
       " '$8400',\n",
       " '$8900',\n",
       " '$8900',\n",
       " '$17150',\n",
       " '$17150',\n",
       " '$9499',\n",
       " '$9499',\n",
       " '$8600',\n",
       " '$8600',\n",
       " '$29000',\n",
       " '$29000',\n",
       " '$17000',\n",
       " '$17000',\n",
       " '$9000',\n",
       " '$9000',\n",
       " '$129',\n",
       " '$129',\n",
       " '$79999',\n",
       " '$79999',\n",
       " '$5000',\n",
       " '$5000',\n",
       " '$5600',\n",
       " '$5600',\n",
       " '$80000',\n",
       " '$80000',\n",
       " '$14500',\n",
       " '$14500',\n",
       " '$48000',\n",
       " '$29400',\n",
       " '$15400',\n",
       " '$15400',\n",
       " '$47000',\n",
       " '$47000',\n",
       " '$4000',\n",
       " '$28000',\n",
       " '$28000',\n",
       " '$400',\n",
       " '$400',\n",
       " '$12000',\n",
       " '$12000',\n",
       " '$24000',\n",
       " '$24000',\n",
       " '$24000',\n",
       " '$24000',\n",
       " '$19000',\n",
       " '$19000',\n",
       " '$34000',\n",
       " '$34000',\n",
       " '$300',\n",
       " '$300',\n",
       " '$17900',\n",
       " '$17900',\n",
       " '$4000',\n",
       " '$4500',\n",
       " '$4500',\n",
       " '$7500',\n",
       " '$42500',\n",
       " '$42500',\n",
       " '$27000',\n",
       " '$27000',\n",
       " '$29500',\n",
       " '$29500',\n",
       " '$21500',\n",
       " '$21500',\n",
       " '$219900',\n",
       " '$219900',\n",
       " '$69900',\n",
       " '$69900',\n",
       " '$40000',\n",
       " '$40000',\n",
       " '$38000',\n",
       " '$38000']"
      ]
     },
     "execution_count": 5,
     "metadata": {},
     "output_type": "execute_result"
    }
   ],
   "source": [
    "response = requests.get(\"https://sfbay.craigslist.org/search/sfc/rva\")\n",
    "HTML = response.text  \n",
    "HTML[0:150]\n",
    "\n",
    "rv_list = Selector(text=HTML).xpath(\"//span[@class='result-price']/text()\").extract()\n",
    "new_list = [s.encode('utf-8') for s in rv_list]\n",
    "new_list"
   ]
  },
  {
   "cell_type": "markdown",
   "metadata": {},
   "source": [
    "\n",
    "## 2.1 Create a mapping of cities to cooresponding regional Craigslist URLs\n",
    "\n",
    "Major US cities on Craigslist typically have their own cooresponding section (ie: SFBay Area, NYC, Boston, Miami, Seattle, etc).  Later, you will use these to query search results for various metropolitian regions listed on Craigslist.  Between the major metropolitan Craigslist sites, the only thing that will differ is the URL's that correspond to them.\n",
    "\n",
    "The point of the \"mapping\":  Create a data structure that allows you to iterate with both the name of the city from Wikipedia, with the cooresponding variable that that will allow you to construct each craigslist URL for each region.\n",
    "\n",
    "> For San Francsico (the Bay Area metropolitan area), the url for the RV search result is:\n",
    "> http://sfbay.craigslist.org/search/sss?query=rv\n",
    ">\n",
    "> The convention is http://[region].craigslist.org/search/sss?query=rf\n",
    "> Replacing [region] with the cooresponding city name will allow you to quickly iterate through each regional Craigslist site, and scrape the prices from the search results.  Keep this in mind while you build this \"mapping\".\n"
   ]
  },
  {
   "cell_type": "code",
   "execution_count": 14,
   "metadata": {
    "collapsed": false
   },
   "outputs": [
    {
     "name": "stdout",
     "output_type": "stream",
     "text": [
      "{u'monterey': '//monterey.craigslist.org/', u'humboldt': '//humboldt.craigslist.org/', u'fresno': '//fresno.craigslist.org/', u'merced': '//merced.craigslist.org/', u'reno': '//reno.craigslist.org/', u'san luis obispo': '//slo.craigslist.org/', u'modesto': '//modesto.craigslist.org/', u'roseburg': '//roseburg.craigslist.org/', u'yuba-sutter': '//yubasutter.craigslist.org/', u'stockton': '//stockton.craigslist.org/', u'orange co': '//orangecounty.craigslist.org/', u'mendocino co': '//mendocino.craigslist.org/', u'santa maria': '//santamaria.craigslist.org/', u'siskiyou co': '//siskiyou.craigslist.org/', u'visalia-tulare': '//visalia.craigslist.org/', u'klamath falls': '//klamath.craigslist.org/', u'palm springs': '//palmsprings.craigslist.org/', u'sacramento': '//sacramento.craigslist.org/', u'gold country': '//goldcountry.craigslist.org/', u'bakersfield': '//bakersfield.craigslist.org/', u'susanville': '//susanville.craigslist.org/', u'inland empire': '//inlandempire.craigslist.org/', u'hanford': '//hanford.craigslist.org/', u'santa barbara': '//santabarbara.craigslist.org/', u'ventura': '//ventura.craigslist.org/', u'las vegas': '//lasvegas.craigslist.org/', u'los angeles': '//losangeles.craigslist.org/', u'redding': '//redding.craigslist.org/', u'chico': '//chico.craigslist.org/', u'medford': '//medford.craigslist.org/'}\n"
     ]
    },
    {
     "name": "stderr",
     "output_type": "stream",
     "text": [
      "/Users/adrija/anaconda/envs/dsi/lib/python2.7/site-packages/ipykernel/__main__.py:7: ScrapyDeprecationWarning: scrapy.selector.HtmlXPathSelector is deprecated, instantiate scrapy.Selector instead.\n",
      "/Users/adrija/anaconda/envs/dsi/lib/python2.7/site-packages/ipykernel/__main__.py:12: ScrapyDeprecationWarning: Call to deprecated function select. Use .xpath() instead.\n",
      "/Users/adrija/anaconda/envs/dsi/lib/python2.7/site-packages/ipykernel/__main__.py:16: ScrapyDeprecationWarning: Call to deprecated function select. Use .xpath() instead.\n",
      "/Users/adrija/anaconda/envs/dsi/lib/python2.7/site-packages/ipykernel/__main__.py:17: ScrapyDeprecationWarning: Call to deprecated function select. Use .xpath() instead.\n",
      "/Users/adrija/anaconda/envs/dsi/lib/python2.7/site-packages/ipykernel/__main__.py:19: ScrapyDeprecationWarning: Call to deprecated function select. Use .xpath() instead.\n"
     ]
    }
   ],
   "source": [
    "response = requests.get(\"https://craigslist.org\")\n",
    "HTML = response.text  \n",
    "HTML[0:150]\n",
    "#url_list = Selector(text=HTML).xpath(\"///li[@class='s']//a\")\n",
    "#url_list.extract()\n",
    "\n",
    "hxs = HtmlXPathSelector(response)\n",
    "# HTML = response.text  \n",
    "# HTML[0:150] \n",
    "\n",
    "#hxs.select('//title/text()').extract()\n",
    "url_list = hxs.select(\"///li[@class='s']//a\")\n",
    "#print url_list\n",
    "#print url_list.extract()\n",
    "craigs_cities = {}\n",
    "for index, node in enumerate(hxs.select(\"///li[@class='s']//a\")):\n",
    "    x =  node.select(\"@href\").extract()[0].encode('utf-8')\n",
    "    #print x\n",
    "    y = node.select(\"///li[@class='s']//a/text()\").extract()[index]\n",
    "    craigs_cities[y] = x\n",
    "    \n",
    "print craigs_cities    \n",
    "\n",
    "#url_list = [s.encode('utf-8') for s in r_list]\n",
    "#rr_list\n"
   ]
  },
  {
   "cell_type": "code",
   "execution_count": 7,
   "metadata": {
    "collapsed": false
   },
   "outputs": [],
   "source": [
    "# hxs.select('//a[contains(@href, \".craigslist.org\")]/text()').extract()\n",
    "\n",
    "# for index, url in enumerate(url_list):\n",
    "#     #args = (index, url.select('@href').extract(), url.select('//a[contains(@href, \"craigslist.org\")]/text()').extract())\n",
    "#     #url.xpath('//@href').extract()\n",
    "#     print url.select('//a[contains(@href, \".craigslist.org\")]/text()').extract()\n",
    "    \n",
    "\n",
    "    \n",
    "    \n",
    "    "
   ]
  },
  {
   "cell_type": "markdown",
   "metadata": {},
   "source": [
    "\n",
    "## 3. Define a function to caculate mean and median price per city.\n",
    "\n",
    "Now that you've created a list of cities you want to scrape, adapt your solution for grabbing data in one region site, to grab data for all regional sites that you collected, then calculate the mean and median price of RV results from each city.\n",
    "\n",
    "> Look at the URLs from a few different regions (ie: portland, phoenix, sfbay), and find what they have in common.  Determine the area in the URL string that needs to change the least, and figure out how to replace only that portion of the URL in order to iterate through each city."
   ]
  },
  {
   "cell_type": "code",
   "execution_count": 8,
   "metadata": {
    "collapsed": false
   },
   "outputs": [
    {
     "name": "stdout",
     "output_type": "stream",
     "text": [
      "{'City': ('mean_rv_price', 'median_rv_price'), u'humboldt': (9414.3842592592591, 5500.0), u'monterey': (24607.140909090907, 18997.5), u'merced': (20293.582887700533, 15000.0), u'reno': (15350.111111111111, 10600.0), u'san luis obispo': (14363.56880733945, 11500.0), u'modesto': (16469.649038461539, 10975.0), u'roseburg': (17134.242424242424, 10800.0), u'yuba-sutter': (16382.400943396226, 11449.5), u'stockton': (20406.064864864864, 14800.0), u'orange co': (17218.529953917052, 7000.0), u'fresno': (17240.281081081081, 11975.0), u'mendocino co': (15663.246376811594, 8000.0), u'santa maria': (16028.612903225807, 8950.0), u'sacramento': (18484.164444444443, 10000.0), u'visalia-tulare': (14968.505434782608, 7100.0), u'klamath falls': (20640.34, 12250.0), u'palm springs': (23842.119617224882, 8500.0), u'siskiyou co': (13444.722727272727, 7950.0), u'gold country': (14194.582159624413, 10000.0), u'bakersfield': (15959.509803921568, 10000.0), u'susanville': (13964.549107142857, 8995.0), u'inland empire': (14411.018691588784, 6500.0), u'hanford': (17424.224299065419, 10000.0), u'chico': (18234.71875, 8625.0), u'ventura': (28503.697777777779, 14500.0), u'las vegas': (16832.133004926109, 11000.0), u'los angeles': (15724.465116279071, 7500.0), u'redding': (23802.701923076922, 12250.0), u'santa barbara': (17696.654639175256, 13200.0), u'medford': (16004.730392156862, 11000.0)}\n"
     ]
    }
   ],
   "source": [
    "def calrvpricestat(url):\n",
    "    response = requests.get(url)\n",
    "    HTML = response.text \n",
    "    rv_list = Selector(text=HTML).xpath(\"//span[@class='result-price']/text()\").extract()\n",
    "    new_list = [float(s.encode('utf-8')[1:]) for s in rv_list]\n",
    "    mean = np.mean(new_list)\n",
    "    median = np.median(new_list)\n",
    "    return mean, median\n",
    "    #url = \"https://sfbay.craigslist.org/search/sfc/rva\"\n",
    "#   mean = np.mean(url)\n",
    "#   median = np.median(url)\n",
    "    #return mean, median\n",
    "\n",
    "\n",
    "def create_url(string):\n",
    "    return \"https:\"+string+\"search\"+\"/\"+\"rva\"\n",
    "#     ''//monterey.craigslist.org/\n",
    "#     https://monterey.craigslist.org/search/rva\n",
    "# # rv_list = Selector(text=HTML).xpath(\"//span[@class='result-price']/text()\").extract()\n",
    "# new_list = [s.encode('utf-8') for s in rv_list]\n",
    "# new_list\n",
    "\n",
    "#print create_url(\"//monterey.craigslist.org/\")\n",
    "\n",
    "\n",
    "\n",
    "new_dict = {'City': ('mean_rv_price', 'median_rv_price')}\n",
    "for key in craigs_cities:\n",
    "    #print key\n",
    "    rv_url = create_url(craigs_cities[key])\n",
    "    x, y = calrvpricestat(rv_url)\n",
    "    #print key, y\n",
    "    new_dict[key] = (x, y)\n",
    "    \n",
    "print new_dict\n",
    "    \n",
    "    \n",
    "# def adrija(a)\n",
    "#     return x + 5\n",
    "\n",
    "# a= 10\n",
    "# b = 30\n",
    "# c = 20\n",
    "# adrija(a)\n",
    "# adrija(b)\n",
    "# adrija(c)\n",
    "#monterey : 24402.557522123894\n",
    "    \n",
    "#print calrvpricestat(\"https://sfbay.craigslist.org/search/sfc/rva\")"
   ]
  },
  {
   "cell_type": "code",
   "execution_count": null,
   "metadata": {
    "collapsed": false
   },
   "outputs": [],
   "source": []
  },
  {
   "cell_type": "markdown",
   "metadata": {},
   "source": [
    "\n",
    "## 4. Run your scraping process, and save your results to a CSV file."
   ]
  },
  {
   "cell_type": "code",
   "execution_count": 9,
   "metadata": {
    "collapsed": false,
    "scrolled": true
   },
   "outputs": [
    {
     "data": {
      "text/html": [
       "<div>\n",
       "<style>\n",
       "    .dataframe thead tr:only-child th {\n",
       "        text-align: right;\n",
       "    }\n",
       "\n",
       "    .dataframe thead th {\n",
       "        text-align: left;\n",
       "    }\n",
       "\n",
       "    .dataframe tbody tr th {\n",
       "        vertical-align: top;\n",
       "    }\n",
       "</style>\n",
       "<table border=\"1\" class=\"dataframe\">\n",
       "  <thead>\n",
       "    <tr style=\"text-align: right;\">\n",
       "      <th></th>\n",
       "      <th>City</th>\n",
       "      <th>mean_rv_price</th>\n",
       "      <th>median_rv_price</th>\n",
       "    </tr>\n",
       "  </thead>\n",
       "  <tbody>\n",
       "    <tr>\n",
       "      <th>0</th>\n",
       "      <td>humboldt</td>\n",
       "      <td>9414.384259</td>\n",
       "      <td>5500.0</td>\n",
       "    </tr>\n",
       "    <tr>\n",
       "      <th>1</th>\n",
       "      <td>monterey</td>\n",
       "      <td>24607.140909</td>\n",
       "      <td>18997.5</td>\n",
       "    </tr>\n",
       "    <tr>\n",
       "      <th>2</th>\n",
       "      <td>merced</td>\n",
       "      <td>20293.582888</td>\n",
       "      <td>15000.0</td>\n",
       "    </tr>\n",
       "    <tr>\n",
       "      <th>3</th>\n",
       "      <td>reno</td>\n",
       "      <td>15350.111111</td>\n",
       "      <td>10600.0</td>\n",
       "    </tr>\n",
       "    <tr>\n",
       "      <th>4</th>\n",
       "      <td>san luis obispo</td>\n",
       "      <td>14363.568807</td>\n",
       "      <td>11500.0</td>\n",
       "    </tr>\n",
       "  </tbody>\n",
       "</table>\n",
       "</div>"
      ],
      "text/plain": [
       "              City  mean_rv_price  median_rv_price\n",
       "0         humboldt    9414.384259           5500.0\n",
       "1         monterey   24607.140909          18997.5\n",
       "2           merced   20293.582888          15000.0\n",
       "3             reno   15350.111111          10600.0\n",
       "4  san luis obispo   14363.568807          11500.0"
      ]
     },
     "execution_count": 9,
     "metadata": {},
     "output_type": "execute_result"
    }
   ],
   "source": [
    "import csv\n",
    "\n",
    "with open('dict1.csv', 'wb') as csv_file:\n",
    "    writer = csv.writer(csv_file)\n",
    "    for key, value in new_dict.items():\n",
    "        writer.writerow([key, value[0], value[1]])\n",
    "    \n",
    "#to read the file\n",
    "dict_1 = pd.read_csv('/Users/adrija/Desktop/dsi-sf-7/projects/Project-3/dict1.csv')\n",
    "dict_1.head()"
   ]
  },
  {
   "cell_type": "markdown",
   "metadata": {},
   "source": [
    "\n",
    "## 5. Do an analysis of the RV market.\n",
    "\n",
    "Go head we'll wait.  Anything notable about the data?"
   ]
  },
  {
   "cell_type": "code",
   "execution_count": 10,
   "metadata": {
    "collapsed": false
   },
   "outputs": [
    {
     "data": {
      "text/html": [
       "<div>\n",
       "<style>\n",
       "    .dataframe thead tr:only-child th {\n",
       "        text-align: right;\n",
       "    }\n",
       "\n",
       "    .dataframe thead th {\n",
       "        text-align: left;\n",
       "    }\n",
       "\n",
       "    .dataframe tbody tr th {\n",
       "        vertical-align: top;\n",
       "    }\n",
       "</style>\n",
       "<table border=\"1\" class=\"dataframe\">\n",
       "  <thead>\n",
       "    <tr style=\"text-align: right;\">\n",
       "      <th></th>\n",
       "      <th>mean_rv_price</th>\n",
       "      <th>median_rv_price</th>\n",
       "    </tr>\n",
       "  </thead>\n",
       "  <tbody>\n",
       "    <tr>\n",
       "      <th>count</th>\n",
       "      <td>30.000000</td>\n",
       "      <td>30.000000</td>\n",
       "    </tr>\n",
       "    <tr>\n",
       "      <th>mean</th>\n",
       "      <td>17490.155115</td>\n",
       "      <td>10497.233333</td>\n",
       "    </tr>\n",
       "    <tr>\n",
       "      <th>std</th>\n",
       "      <td>3856.006130</td>\n",
       "      <td>2906.655424</td>\n",
       "    </tr>\n",
       "    <tr>\n",
       "      <th>min</th>\n",
       "      <td>9414.384259</td>\n",
       "      <td>5500.000000</td>\n",
       "    </tr>\n",
       "    <tr>\n",
       "      <th>25%</th>\n",
       "      <td>15428.394928</td>\n",
       "      <td>8531.250000</td>\n",
       "    </tr>\n",
       "    <tr>\n",
       "      <th>50%</th>\n",
       "      <td>16650.891022</td>\n",
       "      <td>10300.000000</td>\n",
       "    </tr>\n",
       "    <tr>\n",
       "      <th>75%</th>\n",
       "      <td>18421.803021</td>\n",
       "      <td>11856.250000</td>\n",
       "    </tr>\n",
       "    <tr>\n",
       "      <th>max</th>\n",
       "      <td>28503.697778</td>\n",
       "      <td>18997.500000</td>\n",
       "    </tr>\n",
       "  </tbody>\n",
       "</table>\n",
       "</div>"
      ],
      "text/plain": [
       "       mean_rv_price  median_rv_price\n",
       "count      30.000000        30.000000\n",
       "mean    17490.155115     10497.233333\n",
       "std      3856.006130      2906.655424\n",
       "min      9414.384259      5500.000000\n",
       "25%     15428.394928      8531.250000\n",
       "50%     16650.891022     10300.000000\n",
       "75%     18421.803021     11856.250000\n",
       "max     28503.697778     18997.500000"
      ]
     },
     "execution_count": 10,
     "metadata": {},
     "output_type": "execute_result"
    }
   ],
   "source": [
    "dict_1.describe()"
   ]
  },
  {
   "cell_type": "markdown",
   "metadata": {
    "collapsed": true
   },
   "source": [
    "\n",
    "### 5.1 Does it makes sense to buy RVs in one region and sell them in another?\n",
    "\n",
    "Assuming the cost of shipping or driving from one regional market to another."
   ]
  },
  {
   "cell_type": "code",
   "execution_count": 11,
   "metadata": {
    "collapsed": false
   },
   "outputs": [
    {
     "data": {
      "image/png": "[encoded data removed]",
      "text/plain": [
       "<matplotlib.figure.Figure at 0x1126fae90>"
      ]
     },
     "metadata": {
      "image/png": {
       "height": 520,
       "width": 892
      }
     },
     "output_type": "display_data"
    }
   ],
   "source": [
    "import matplotlib.pyplot as plt\n",
    "\n",
    "# this line tells jupyter notebook to put the plots in the notebook rather than saving them to file.\n",
    "%matplotlib inline\n",
    "\n",
    "# this line makes plots prettier on mac retina screens. If you don't have one it shouldn't do anything.\n",
    "%config InlineBackend.figure_format = 'retina'\n",
    "\n",
    "fig = plt.figure(figsize=(15,7))\n",
    "ax = fig.gca()\n",
    "\n",
    "# Plot the bars for just verbal and math\n",
    "dict_1[['mean_rv_price', 'median_rv_price']].plot.bar(stacked=True, ax=ax)\n",
    "\n",
    "# put the title on\n",
    "ax.set_title('Mean and Median Price of RVs stacked histogram\\n', fontsize=20)\n",
    "\n",
    "# change the x-ticks to be the states instead of the row indices\n",
    "# this wasn't required, but is nice\n",
    "Cities = dict_1.City\n",
    "ax.set_xticklabels(Cities)\n",
    "\n",
    "plt.show()\n"
   ]
  },
  {
   "cell_type": "markdown",
   "metadata": {},
   "source": [
    "### 5.2 Can you pull out the \"make\" from the markup and include that in your analyis?\n",
    "How reliable is this data and does it make sense?"
   ]
  },
  {
   "cell_type": "code",
   "execution_count": 12,
   "metadata": {
    "collapsed": true
   },
   "outputs": [],
   "source": [
    "# This is actually difficult to say using this data. There is no information on the type of RVs we are \n",
    "# considering here, taxes, the cost of delivery, etc."
   ]
  },
  {
   "cell_type": "markdown",
   "metadata": {},
   "source": [
    "### 5.3 Are there any other variables you could pull out of the markup to help describe your dataset?"
   ]
  },
  {
   "cell_type": "code",
   "execution_count": null,
   "metadata": {
    "collapsed": true
   },
   "outputs": [],
   "source": []
  },
  {
   "cell_type": "markdown",
   "metadata": {},
   "source": [
    "\n",
    "## 6. Move your project into scrapy (if you haven't used Scrapy yet)\n",
    "\n",
    ">Start a project by using the command `scrapy startproject [projectname]`\n",
    "> - Update your settings.py (review our past example)\n",
    "> - Update your items.py\n",
    "> - Create a spiders file in your `[project_name]/[project_name]/spiders` directory\n",
    "\n",
    "You can update your spider class with the complete list of craigslist \"start urls\" to effectively scrape all of the regions.  Start with one to test.\n",
    "\n",
    "Updating your parse method with the method you chose should require minimal changes.  It will require you to update your parse method to use the response parameter, and an item model (defined in items.py)."
   ]
  },
  {
   "cell_type": "code",
   "execution_count": null,
   "metadata": {
    "collapsed": true
   },
   "outputs": [],
   "source": [
    "#code is in the Craigslist file"
   ]
  },
  {
   "cell_type": "markdown",
   "metadata": {},
   "source": [
    "\n",
    "## 7.  Chose another area of Craigslist to scrape.\n",
    "\n",
    "**Choose an area having more than a single page of results, then scrape multiple regions, multiple pages of search results and or details pages.**\n",
    "\n",
    "This is the true exercise of being able to understand how to succesffuly plan, develop, and employ a broader scraping strategy.  Even though this seems like a challenging task, a few tweeks of your current code can make this very managable if you've pieced together all the touch points.  If you are still confused as to some of the milestones within this process, this is an excellent opportunity to round out your understanding, or help you build a list of questions to fill in your gaps.\n",
    "\n",
    "_Use Scrapy!  Provide your code in this project directory when you submit this project._"
   ]
  },
  {
   "cell_type": "markdown",
   "metadata": {
    "collapsed": true
   },
   "source": []
  },
  {
   "cell_type": "code",
   "execution_count": null,
   "metadata": {
    "collapsed": true
   },
   "outputs": [],
   "source": []
  }
 ],
 "metadata": {
  "anaconda-cloud": {},
  "kernelspec": {
   "display_name": "Python [default]",
   "language": "python",
   "name": "python2"
  },
  "language_info": {
   "codemirror_mode": {
    "name": "ipython",
    "version": 2
   },
   "file_extension": ".py",
   "mimetype": "text/x-python",
   "name": "python",
   "nbconvert_exporter": "python",
   "pygments_lexer": "ipython2",
   "version": "2.7.13"
  }
 },
 "nbformat": 4,
 "nbformat_minor": 1
}
